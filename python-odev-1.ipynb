{
 "cells": [
  {
   "cell_type": "code",
   "execution_count": 1,
   "metadata": {},
   "outputs": [
    {
     "name": "stdout",
     "output_type": "stream",
     "text": [
      "kullanıcı kayıt edildi\n",
      "Giriş başarılı\n",
      "Kullanıcı adı veya şifre hatalı\n",
      "Çıkış yapılıyor\n"
     ]
    }
   ],
   "source": [
    "def kullanici_kayit():\n",
    "    kullanici_bilgi = {}\n",
    "    kullanici_adi = input(\"Kullanici adını girin\")\n",
    "    kullanici_sifre = input(\"Kullanici sifresini girin\")\n",
    "    kullanici_bilgi[\"kullanici_adi\"]=kullanici_adi\n",
    "    kullanici_bilgi[\"kullanici_sifre\"]=kullanici_sifre\n",
    "    with open(\"kullanici_bilgileri.txt\",\"a\") as f:\n",
    "        f.write(kullanici_bilgi[\"kullanici_adi\"]+\",\"+kullanici_bilgi[\"kullanici_sifre\"]+\"\\n\")\n",
    "    print(\"kullanıcı kayıt edildi\")\n",
    "\n",
    "\n",
    "def giris():\n",
    "    k_adi = input(\"Kullanıcı adını girin\") # giriş yapılacak hesabın kullanıcı adı\n",
    "    k_sifre = input(\"Kullanıcı sifresini girin\") # giriş yapılacak hesabın şifresi\n",
    "    file = open(\"kullanici_bilgileri.txt\",\"r\") # \"kullanici_bilgileri.txt\" dosyasında kayıtlı verileri oku\n",
    "    lines = file.readlines() # dosyada bulunan satırları lines isimli değişkene al\n",
    "    file.close() # dosyayı kapat\n",
    "    for line in lines:\n",
    "        if k_adi+\",\"+k_sifre == line[:-1]: # dosyada XXXX,XXXX şeklinde bulunan veri yapısına ulaşabilmek için kullanıcının girmiş olduğu isim ve şifre arasına \",\" işareti koyuyoruz. Ayrıca satırda bulunan \"\\n\" işaretini silmek için line[:-1] slicing işlemini uyguluyoruz\n",
    "            print(\"Giriş başarılı\") #eğer bilgiler eşleşiyorsa kullanıcı giriş yapabilir\n",
    "            return #kullanıcı giriş yaptıktan sonra bu fonksiyonda işimiz bittiği için \"return\" kullanarak fonksiyondan çıkmayı sağlıyoruz\n",
    "    print(\"Kullanıcı adı veya şifre hatalı\") #eğer tüm bilgiler incelenip hiçbir eşleşme sağlanmadıysa (fonksiyondan hala çıkış yapılmadıysa) kullanıcı ve şifreyle eşleşen bilgi sistemde bulunmamaktadır. Hata mesajı gösteriyoruz\n",
    "\n",
    "\n",
    "while True:\n",
    "    secim = int(input(\"1-Kayıt,2-Giriş,3-Çıkış\"))\n",
    "    \n",
    "    if secim == 1:\n",
    "        kullanici_kayit()\n",
    "\n",
    "    elif secim == 2:\n",
    "        giris() # giris işlemlerini kontrol etmek için \"giris\" fonksiyonunu çağırıyoruz\n",
    "    elif secim == 3:\n",
    "        print(\"Çıkış yapılıyor\")\n",
    "        break\n",
    "    else:\n",
    "        print(\"Yanlış seçim yaptınız\")"
   ]
  },
  {
   "cell_type": "code",
   "execution_count": null,
   "metadata": {},
   "outputs": [],
   "source": []
  }
 ],
 "metadata": {
  "kernelspec": {
   "display_name": "Python 3",
   "language": "python",
   "name": "python3"
  },
  "language_info": {
   "codemirror_mode": {
    "name": "ipython",
    "version": 3
   },
   "file_extension": ".py",
   "mimetype": "text/x-python",
   "name": "python",
   "nbconvert_exporter": "python",
   "pygments_lexer": "ipython3",
   "version": "3.11.1"
  },
  "orig_nbformat": 4
 },
 "nbformat": 4,
 "nbformat_minor": 2
}
